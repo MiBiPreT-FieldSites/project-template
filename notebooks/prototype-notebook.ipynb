{
 "cells": [
  {
   "cell_type": "markdown",
   "id": "77952ecc-7a06-45e2-a65f-7c792b84e933",
   "metadata": {},
   "source": [
    "# Prototype Notebook"
   ]
  },
  {
   "cell_type": "code",
   "execution_count": null,
   "id": "498e75c8-f8e7-457b-ba31-39d0a19168c8",
   "metadata": {},
   "outputs": [],
   "source": []
  }
 ],
 "metadata": {
  "kernelspec": {
   "display_name": "Python 3 (ipykernel)",
   "language": "python",
   "name": "python3"
  },
  "language_info": {
   "codemirror_mode": {
    "name": "ipython",
    "version": 3
   },
   "file_extension": ".py",
   "mimetype": "text/x-python",
   "name": "python",
   "nbconvert_exporter": "python",
   "pygments_lexer": "ipython3",
   "version": "3.12.5"
  }
 },
 "nbformat": 4,
 "nbformat_minor": 5
}
