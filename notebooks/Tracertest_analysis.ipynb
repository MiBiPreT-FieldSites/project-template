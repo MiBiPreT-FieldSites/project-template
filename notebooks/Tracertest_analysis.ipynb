{
 "cells": [
  {
   "cell_type": "markdown",
   "id": "8ab0f69c-6029-4593-a595-04936f323319",
   "metadata": {},
   "source": [
    "# Tracer Test Analysis"
   ]
  },
  {
   "cell_type": "code",
   "execution_count": 1,
   "id": "455e10bc-ddff-43b0-9152-0780897aed8d",
   "metadata": {},
   "outputs": [],
   "source": [
    "import numpy as np\n",
    "import matplotlib.pyplot as plt"
   ]
  },
  {
   "cell_type": "code",
   "execution_count": 2,
   "id": "cd28ca10-1218-4fea-bbcc-51cc2f3d26df",
   "metadata": {},
   "outputs": [],
   "source": [
    "import sys\n",
    "path = '../scripts/'\n",
    "sys.path.append(path) # append the path to module\n",
    "import analysis\n",
    "import visualize"
   ]
  },
  {
   "cell_type": "markdown",
   "id": "6a1532a5-0488-442b-9dae-33daef3c25f1",
   "metadata": {},
   "source": [
    "## Loading Experimental Data"
   ]
  },
  {
   "cell_type": "markdown",
   "id": "e9059f65-0291-4158-be9e-29c6561ba1d3",
   "metadata": {},
   "source": [
    "Data on experimental setting:"
   ]
  },
  {
   "cell_type": "code",
   "execution_count": 3,
   "id": "6c663885-5882-4254-9bb2-c6129ba5ff76",
   "metadata": {},
   "outputs": [],
   "source": [
    "depth = 23 #cm\n",
    "EC_back = 339.4 #uS/cm\n",
    "EC_inject = 1415 #uS/cm\n",
    "flow_rate = 60 #cm3/min\t\n",
    "t_dur = 10 # min duration of injection\n",
    "diam = 10 #cm"
   ]
  },
  {
   "cell_type": "markdown",
   "id": "14c3d592-e5c8-4aa0-8fb3-472088e3df71",
   "metadata": {},
   "source": [
    "File pathes and experimental data loading:"
   ]
  },
  {
   "cell_type": "code",
   "execution_count": 4,
   "id": "4a2362fd-07eb-46e6-9dfb-b9abc6ac2402",
   "metadata": {},
   "outputs": [
    {
     "data": {
      "text/html": [
       "<div>\n",
       "<style scoped>\n",
       "    .dataframe tbody tr th:only-of-type {\n",
       "        vertical-align: middle;\n",
       "    }\n",
       "\n",
       "    .dataframe tbody tr th {\n",
       "        vertical-align: top;\n",
       "    }\n",
       "\n",
       "    .dataframe thead th {\n",
       "        text-align: right;\n",
       "    }\n",
       "</style>\n",
       "<table border=\"1\" class=\"dataframe\">\n",
       "  <thead>\n",
       "    <tr style=\"text-align: right;\">\n",
       "      <th></th>\n",
       "      <th>time</th>\n",
       "      <th>EC</th>\n",
       "    </tr>\n",
       "  </thead>\n",
       "  <tbody>\n",
       "    <tr>\n",
       "      <th>0</th>\n",
       "      <td>min</td>\n",
       "      <td>uS/cm</td>\n",
       "    </tr>\n",
       "    <tr>\n",
       "      <th>1</th>\n",
       "      <td>1.323</td>\n",
       "      <td>331.4</td>\n",
       "    </tr>\n",
       "    <tr>\n",
       "      <th>2</th>\n",
       "      <td>3.323</td>\n",
       "      <td>328.7</td>\n",
       "    </tr>\n",
       "    <tr>\n",
       "      <th>3</th>\n",
       "      <td>5.323</td>\n",
       "      <td>333.1</td>\n",
       "    </tr>\n",
       "    <tr>\n",
       "      <th>4</th>\n",
       "      <td>7.323</td>\n",
       "      <td>341.7</td>\n",
       "    </tr>\n",
       "    <tr>\n",
       "      <th>5</th>\n",
       "      <td>9.323</td>\n",
       "      <td>396.3</td>\n",
       "    </tr>\n",
       "    <tr>\n",
       "      <th>6</th>\n",
       "      <td>11.323</td>\n",
       "      <td>495.1</td>\n",
       "    </tr>\n",
       "    <tr>\n",
       "      <th>7</th>\n",
       "      <td>13.323</td>\n",
       "      <td>679.4</td>\n",
       "    </tr>\n",
       "    <tr>\n",
       "      <th>8</th>\n",
       "      <td>15.323</td>\n",
       "      <td>1000</td>\n",
       "    </tr>\n",
       "    <tr>\n",
       "      <th>9</th>\n",
       "      <td>17.323</td>\n",
       "      <td>1208</td>\n",
       "    </tr>\n",
       "    <tr>\n",
       "      <th>10</th>\n",
       "      <td>19.323</td>\n",
       "      <td>1286</td>\n",
       "    </tr>\n",
       "    <tr>\n",
       "      <th>11</th>\n",
       "      <td>21.323</td>\n",
       "      <td>1250</td>\n",
       "    </tr>\n",
       "    <tr>\n",
       "      <th>12</th>\n",
       "      <td>23.323</td>\n",
       "      <td>1062</td>\n",
       "    </tr>\n",
       "    <tr>\n",
       "      <th>13</th>\n",
       "      <td>25.323</td>\n",
       "      <td>754.7</td>\n",
       "    </tr>\n",
       "    <tr>\n",
       "      <th>14</th>\n",
       "      <td>27.323</td>\n",
       "      <td>416.4</td>\n",
       "    </tr>\n",
       "    <tr>\n",
       "      <th>15</th>\n",
       "      <td>29.323</td>\n",
       "      <td>347.3</td>\n",
       "    </tr>\n",
       "    <tr>\n",
       "      <th>16</th>\n",
       "      <td>31.323</td>\n",
       "      <td>329.4</td>\n",
       "    </tr>\n",
       "    <tr>\n",
       "      <th>17</th>\n",
       "      <td>33.323</td>\n",
       "      <td>330</td>\n",
       "    </tr>\n",
       "    <tr>\n",
       "      <th>18</th>\n",
       "      <td>35.323</td>\n",
       "      <td>326.8</td>\n",
       "    </tr>\n",
       "  </tbody>\n",
       "</table>\n",
       "</div>"
      ],
      "text/plain": [
       "      time     EC\n",
       "0      min  uS/cm\n",
       "1    1.323  331.4\n",
       "2    3.323  328.7\n",
       "3    5.323  333.1\n",
       "4    7.323  341.7\n",
       "5    9.323  396.3\n",
       "6   11.323  495.1\n",
       "7   13.323  679.4\n",
       "8   15.323   1000\n",
       "9   17.323   1208\n",
       "10  19.323   1286\n",
       "11  21.323   1250\n",
       "12  23.323   1062\n",
       "13  25.323  754.7\n",
       "14  27.323  416.4\n",
       "15  29.323  347.3\n",
       "16  31.323  329.4\n",
       "17  33.323    330\n",
       "18  35.323  326.8"
      ]
     },
     "metadata": {},
     "output_type": "display_data"
    }
   ],
   "source": [
    "file_tracer_data = '../data/tracertest.csv'\n",
    "time, tracer =  analysis.import_data(file_tracer_data)"
   ]
  },
  {
   "cell_type": "markdown",
   "id": "690ba01c-51fe-4b9f-afbf-510a2f2f23f7",
   "metadata": {},
   "source": [
    "Plot raw data for selected sample location and selected core:"
   ]
  },
  {
   "cell_type": "code",
   "execution_count": 17,
   "id": "99c2f7e4-4d06-4e10-bf95-a8da1c695333",
   "metadata": {},
   "outputs": [
    {
     "data": {
      "image/png": "[encoded data removed]",
      "text/plain": [
       "<Figure size 640x480 with 1 Axes>"
      ]
     },
     "metadata": {},
     "output_type": "display_data"
    }
   ],
   "source": [
    "visualize.btc(tracer,time)\n",
    "#plt.ylabel(r\"Concentration $C(t) = EC$ [$\\mu$S/cm]\")"
   ]
  },
  {
   "cell_type": "markdown",
   "id": "d1ef8fb3-a424-471e-82e5-365e1d22472e",
   "metadata": {},
   "source": [
    "## Data normalization\n",
    "\n",
    "### Procedure:\n",
    "* normalize tracer data by deducing background concentration\n",
    "* determine total injected mass by integration (to check if maximum concentration was observed or if tracer was diluted)\n",
    "* calculate dimensionless tracer distribution by normalizing with average input concentration\n",
    "* determine BTC point, i.e. location of advective front where $C = 0.5\\cdot C_0$ from interpolation"
   ]
  },
  {
   "cell_type": "markdown",
   "id": "a699d597-d952-44d1-bd0e-9bd8ed2e8125",
   "metadata": {},
   "source": [
    "**Normalize tracer data by subtract background concentration**"
   ]
  },
  {
   "cell_type": "code",
   "execution_count": 6,
   "id": "02c9fe5a-22e8-4c09-abd9-7139eab64649",
   "metadata": {},
   "outputs": [
    {
     "name": "stdout",
     "output_type": "stream",
     "text": [
      "[  0.    0.    0.    2.3  56.9 155.7 340.  660.6 868.6 946.6 910.6 722.6\n",
      " 415.3  77.    7.9   0.    0.    0. ]\n"
     ]
    }
   ],
   "source": [
    "tracer_norm = analysis.normalize_data(tracer,EC_back)\n",
    "#print(tracer_norm)"
   ]
  },
  {
   "cell_type": "markdown",
   "id": "b1f6e093-9243-4a82-907e-b8c6c218ac7a",
   "metadata": {},
   "source": [
    "**Determine average input salt concentration from integration of BTC**"
   ]
  },
  {
   "cell_type": "code",
   "execution_count": 7,
   "id": "de4e9596-ca6c-4486-a341-d8ffccee3d41",
   "metadata": {},
   "outputs": [
    {
     "name": "stdout",
     "output_type": "stream",
     "text": [
      "Average concentration of salt injected during the 10.00 min of injection is C = 1032.8 uS/cm:\n"
     ]
    }
   ],
   "source": [
    "c_av = analysis.input_concentration(tracer_norm,time,t_dur)\n",
    "print(\"Average concentration of salt injected during the {:.2f} min of injection is C = {:.1f} uS/cm:\".format(t_dur, c_av))"
   ]
  },
  {
   "cell_type": "code",
   "execution_count": 8,
   "id": "68d2a750-2b38-417b-a13d-007832f16d04",
   "metadata": {},
   "outputs": [
    {
     "name": "stdout",
     "output_type": "stream",
     "text": [
      "Maximal observed values of C = 946.6 uS/cm\n"
     ]
    }
   ],
   "source": [
    "c_max = analysis.max_concentration(tracer_norm)\n",
    "print(\"Maximal observed values of C = {:.1f} uS/cm\".format(c_max))"
   ]
  },
  {
   "cell_type": "markdown",
   "id": "f2a5dee0-b7dc-4b91-97ef-0cc25aa165bc",
   "metadata": {},
   "source": [
    "**Calculate dimensionless tracer distribution by normalizing with average input concentration**"
   ]
  },
  {
   "cell_type": "code",
   "execution_count": 9,
   "id": "c4b53753-9ad5-426f-8927-6c2fbbca8b8a",
   "metadata": {},
   "outputs": [
    {
     "name": "stdout",
     "output_type": "stream",
     "text": [
      "Average input concentration higher than maximal observed value\n",
      "Fix mass for normalization to average input concentration\n"
     ]
    }
   ],
   "source": [
    "tracer_dimless = analysis.concentration_dimensionless(tracer_norm,time,t_dur)\n",
    "#print(tracer_dimless)"
   ]
  },
  {
   "cell_type": "markdown",
   "id": "c13f7ced-7067-4d51-a12b-9a0a6769abdf",
   "metadata": {},
   "source": [
    "**Determine BTC point, i.e. location of advective front where $C = 0.5\\cdot C_0$ from interpolation**"
   ]
  },
  {
   "cell_type": "code",
   "execution_count": 10,
   "id": "c44ab0ef-1b17-4788-8976-b15d78fc30a8",
   "metadata": {},
   "outputs": [
    {
     "name": "stdout",
     "output_type": "stream",
     "text": [
      "Breakthrough time of advection front, i.e. t with C(t) = 0.5 * C_0 at t = 14.42 min\n"
     ]
    }
   ],
   "source": [
    "t_50 = analysis.advection_front(tracer_dimless,time) \n",
    "print(\"Breakthrough time of advection front, i.e. t with C(t) = 0.5 * C_0 at t = {:.2f} min\".format(t_50))"
   ]
  },
  {
   "cell_type": "markdown",
   "id": "d2ebe98a-054c-4fcb-9a53-cc53429a36fc",
   "metadata": {},
   "source": [
    "### Visualization of results\n",
    "\n",
    "Plotting normalized data and pure advection front"
   ]
  },
  {
   "cell_type": "code",
   "execution_count": 11,
   "id": "55017213-babe-4c82-8955-e79bf8b64def",
   "metadata": {},
   "outputs": [
    {
     "data": {
      "image/png": "[encoded data removed]",
      "text/plain": [
       "<Figure size 640x480 with 1 Axes>"
      ]
     },
     "metadata": {},
     "output_type": "display_data"
    }
   ],
   "source": [
    "visualize.pure_advection(t_50,t_dur)\n",
    "visualize.btc(tracer_dimless,time,t_50=t_50)\n",
    "#plt.ylabel(\"Concentration $C(t)/C_0$ [-]\")"
   ]
  },
  {
   "cell_type": "markdown",
   "id": "ccb3bd23-20a1-4c88-bcc8-10cc53890692",
   "metadata": {},
   "source": [
    "## Calculating velocity and dispersion from data analytically\n",
    "\n",
    "* calculate average velocity from BTC time point (i.e. $t_{50}$ with $C(t_{50}) = 0.5 \\cdot C_0$)\n",
    "* calculate porosity by relating average velocity and inflow rate"
   ]
  },
  {
   "cell_type": "code",
   "execution_count": 12,
   "id": "89fefea4-4b3e-4cec-9b52-b27da3b113d6",
   "metadata": {},
   "outputs": [
    {
     "name": "stdout",
     "output_type": "stream",
     "text": [
      "Average velocity v = 1.59 cm/min\n",
      "Inflow velocity into column q = 0.763944 cm/min\n",
      "Porosity from ratio of average velocity and inflow rate n = 0.48\n"
     ]
    }
   ],
   "source": [
    "v_av = depth/t_50\n",
    "print(\"Average velocity v = {:.2f} cm/min\".format(v_av))\n",
    "q_darcy = flow_rate/(np.pi*0.25*diam**2) #cm/min  # flow velocity (as if column would have full volume available)\n",
    "print(\"Inflow velocity into column q = {:2f} cm/min\".format(q_darcy))\n",
    "por = q_darcy/v_av\n",
    "print(r\"Porosity from ratio of average velocity and inflow rate n = {:.2f}\".format(por))"
   ]
  },
  {
   "cell_type": "markdown",
   "id": "a7033ecb-d845-43db-8aa4-3642574cace3",
   "metadata": {},
   "source": [
    "### Method 1: Gradient method\n",
    "\n",
    "Determine dispersivity from data using relationship:\n",
    "      $$ \\frac{\\partial C}{\\partial t}|_{t_{50}} = \\frac{C_0 v}{2\\sqrt{\\pi \\alpha_L x}} \\quad\\longrightarrow\\quad \n",
    "      \\alpha_L  =\\left( \\frac{C_0 v}{2C'(t_{50})}\\right)^2 \\frac{1}{\\pi x} $$\n",
    "      where $x$ is the observation point"
   ]
  },
  {
   "cell_type": "markdown",
   "id": "b5a4a046-c1ba-4684-bc3d-4d9cbe259920",
   "metadata": {},
   "source": [
    "**Determine the derivation at t_50, by using numerical differentiation and interpolation at t_50:**"
   ]
  },
  {
   "cell_type": "code",
   "execution_count": 13,
   "id": "5b265bc2-6297-419a-bc50-404312075279",
   "metadata": {},
   "outputs": [
    {
     "name": "stdout",
     "output_type": "stream",
     "text": [
      "Concentration gradient at BTC point: C'(t_50) = 0.13 1/min\n"
     ]
    },
    {
     "data": {
      "image/png": "[encoded data removed]",
      "text/plain": [
       "<Figure size 640x480 with 1 Axes>"
      ]
     },
     "metadata": {},
     "output_type": "display_data"
    }
   ],
   "source": [
    "ct_prime = np.gradient(tracer_dimless,time)\n",
    "ct_prime_50 = np.interp(t_50,time,ct_prime)\n",
    "plt.plot(time,ct_prime,'o--')\n",
    "plt.scatter(t_50,ct_prime_50,color = 'r')\n",
    "plt.xlabel(r'Time $t$ in min')\n",
    "plt.ylabel(r'Time derivative of concentation $ \\frac{\\partial C/C_0}{\\partial t}$')\n",
    "print(\"Concentration gradient at BTC point: C'(t_50) = {:.2f} 1/min\".format(ct_prime_50)) "
   ]
  },
  {
   "cell_type": "code",
   "execution_count": 14,
   "id": "bbce0e60-aea9-47ed-9511-898181be389b",
   "metadata": {},
   "outputs": [
    {
     "name": "stdout",
     "output_type": "stream",
     "text": [
      "Dispersivity a_L = 0.56 cm\n"
     ]
    }
   ],
   "source": [
    "aL = (v_av/(2*ct_prime_50))**2/(np.pi*depth)\n",
    "print(\"Dispersivity a_L = {:.2f} cm\".format(aL))"
   ]
  },
  {
   "cell_type": "markdown",
   "id": "870634a9-4327-4cbe-a083-6b4b432b529b",
   "metadata": {},
   "source": [
    "### Method 2: Inverting analytical solution\n",
    "\n",
    "The analytical solution to the advection dispersion equation for this particular setting with initial and boundary conditions is given for late times with:\n",
    "$$ C(x,t) = \\frac{1}{2} C_0 \\,\\left[ \\text{erfc}\\left( \\frac{x- v t}{\\sqrt{4 D_L t}} \\right) - \\text{erfc}\\left( \\frac{x- v (t-T)}{\\sqrt{4 D_L t}} \\right)\\right]\n",
    "$$\n",
    "where $\\text{erfc}$ is the complementary error-function, $v$ is velocity, $D_L$ is longitudinal dispersion ($D_L = \\alpha_L \\cdot t$, with $\\alpha$ being dispersivity), $T$ is the finite duration of the input.\n",
    "\n",
    "For identifying dispersivity from BTC of increasing concentration branch, only first part of analytical solution of relevant. Inverting that part to determine dispersivity gives:\n",
    "$$ \\alpha_L =  \\left( \\frac{x- v t}{\\text{erfc}^{-1}(2C(x,t)/C_0)} \\right)^2 \\frac{1}{4 v t}\n",
    "$$\n",
    "\n"
   ]
  },
  {
   "cell_type": "code",
   "execution_count": 15,
   "id": "305990a1-bf18-474a-9478-52dad08b6532",
   "metadata": {},
   "outputs": [
    {
     "ename": "NameError",
     "evalue": "name 'erfcinv' is not defined",
     "output_type": "error",
     "traceback": [
      "\u001b[0;31m---------------------------------------------------------------------------\u001b[0m",
      "\u001b[0;31mNameError\u001b[0m                                 Traceback (most recent call last)",
      "Cell \u001b[0;32mIn[15], line 8\u001b[0m\n\u001b[1;32m      5\u001b[0m t_data \u001b[38;5;241m=\u001b[39m time[i1:i2\u001b[38;5;241m+\u001b[39m\u001b[38;5;241m1\u001b[39m]\n\u001b[1;32m      6\u001b[0m ct_data \u001b[38;5;241m=\u001b[39m tracer_dimless[i1:i2\u001b[38;5;241m+\u001b[39m\u001b[38;5;241m1\u001b[39m]\n\u001b[0;32m----> 8\u001b[0m al_range \u001b[38;5;241m=\u001b[39m \u001b[38;5;241m0.25\u001b[39m\u001b[38;5;241m*\u001b[39m(depth \u001b[38;5;241m-\u001b[39m v_av\u001b[38;5;241m*\u001b[39mt_data)\u001b[38;5;241m*\u001b[39m\u001b[38;5;241m*\u001b[39m\u001b[38;5;241m2\u001b[39m\u001b[38;5;241m/\u001b[39m(\u001b[43merfcinv\u001b[49m(\u001b[38;5;241m2.\u001b[39m\u001b[38;5;241m*\u001b[39mct_data))\u001b[38;5;241m*\u001b[39m\u001b[38;5;241m*\u001b[39m\u001b[38;5;241m2\u001b[39m\u001b[38;5;241m/\u001b[39m(t_data\u001b[38;5;241m*\u001b[39mv_av)\n\u001b[1;32m      9\u001b[0m \u001b[38;5;28mprint\u001b[39m(\u001b[38;5;124m\"\u001b[39m\u001b[38;5;124mCalculated dispersivities around BTC point:\u001b[39m\u001b[38;5;130;01m\\n\u001b[39;00m\u001b[38;5;124m\"\u001b[39m,al_range\u001b[38;5;241m.\u001b[39mvalues)\n\u001b[1;32m     10\u001b[0m aL2 \u001b[38;5;241m=\u001b[39m np\u001b[38;5;241m.\u001b[39mmean(\u001b[38;5;28mabs\u001b[39m(al_range[\u001b[38;5;241m1\u001b[39m:]))\n",
      "\u001b[0;31mNameError\u001b[0m: name 'erfcinv' is not defined"
     ]
    }
   ],
   "source": [
    "i1 = np.argmin(tracer_dimless<0.2) # determine index location close to C_50 left\n",
    "i2 = np.argmin(tracer_dimless<0.8) # determine index location close to C_50 right\n",
    "if i2-i1<2:\n",
    "    print(\"Warning: not sufficient data points around BTC point with C = 0.5\")\n",
    "t_data = time[i1:i2+1]\n",
    "ct_data = tracer_dimless[i1:i2+1]\n",
    "\n",
    "al_range = 0.25*(depth - v_av*t_data)**2/(erfcinv(2.*ct_data))**2/(t_data*v_av)\n",
    "print(\"Calculated dispersivities around BTC point:\\n\",al_range.values)\n",
    "aL2 = np.mean(abs(al_range[1:]))\n",
    "print(\"Dispersivity a_L = {:.2f} cm\".format(aL2))\n",
    "disp = v_av*aL2\n",
    "print(\"Dispersion D = a_L * v = {:.2f} cm^2/s\".format(disp))"
   ]
  },
  {
   "cell_type": "markdown",
   "id": "184c8252-d992-4176-a8a7-584eb5994b7a",
   "metadata": {},
   "source": [
    "Defining analytical solutions of ADE for specific experimental setting"
   ]
  },
  {
   "cell_type": "code",
   "execution_count": null,
   "id": "e9bdfe28-ff23-488d-8379-c740064e76f5",
   "metadata": {},
   "outputs": [],
   "source": [
    "def constant_diffusion(arg,spread):\n",
    "    \"\"\" general solution of diffusive transport in 1D for constant injection\"\"\"\n",
    "    cxt = erfc(0.5*arg /np.sqrt(spread))\n",
    "    return cxt     \n",
    "\n",
    "def ade_analyticial_btc(t,x,v,t_dur = None,c0 = 1,deff = 6e-4,alpha = 1):\n",
    "    \"\"\"\n",
    "    Analytical solution for conservative tracer transport 1D according to the Advection dispersion equation with constant \n",
    "    velocity \n",
    "        - evaluated at a given location over time (BTC)\n",
    "        - for boundary conditions of a temporal constant input of tracer\n",
    "\n",
    "    Input\n",
    "    -----\n",
    "        t (array-like) :  time steps [in min]\n",
    "        x (float)      :  observation location [in cm]\n",
    "        v (float)      :  flow velocity [in cm/min]\n",
    "        t_dur (float)  :  duration of input (time when constant input stops, assuming start at t = 0)\n",
    "        c0 (float)     :  input concentration (default 1  - assuming normalized concentrations)\n",
    "        deff (float)   :  effective diffusion [in cm^2/min]\n",
    "        alpha (float)  :  longitudinal dispersivity [in cm]\n",
    "    \"\"\"\n",
    "    \n",
    "    arg= x - v * t\n",
    "    spread = (deff + v*alpha)*t\n",
    "    ct = 0.5* c0 * constant_diffusion(arg,spread)\n",
    "\n",
    "    if t_dur is not None:\n",
    "        arg = np.argmin(abs(t-t_dur))\n",
    "        ct2 = np.zeros_like(t)\n",
    "        ct2[arg:] = ct[:-arg]\n",
    "\n",
    "        ct  = ct - ct2\n",
    "    return ct"
   ]
  },
  {
   "cell_type": "markdown",
   "id": "1573b8e1-474a-4392-a7c6-371318f222d7",
   "metadata": {},
   "source": [
    "## Plotting analytical solution data with best fit parameters vs experimental data"
   ]
  },
  {
   "cell_type": "code",
   "execution_count": null,
   "id": "7a349fd1-da62-4119-9462-0cc4c468c145",
   "metadata": {},
   "outputs": [],
   "source": [
    "dt = 0.5\n",
    "t = np.arange(dt,36+dt,dt)# min\n",
    "aL3 = 0.5*(aL+aL2)\n",
    "ct = ade_analyticial_btc(t,depth,v_av,t_dur = t_dur,alpha = aL)\n",
    "ct2 = ade_analyticial_btc(t,depth,v_av,t_dur = t_dur,alpha = aL2)\n",
    "ct3 = ade_analyticial_btc(t,depth,v_av,t_dur = t_dur,alpha = aL3)\n",
    "\n",
    "# aL4 = 0.2\n",
    "# ct4 = ade_analyticial_btc(t,x_loc1,v_av,t_dur = t_dur,alpha = aL4)\n",
    "\n",
    "plt.figure(figsize = [12,5])\n",
    "plt.plot(t,ct,label='aL = {:.2f}cm'.format(aL))\n",
    "plt.plot(t,ct3,label='aL = {:.2f}cm'.format(aL3))\n",
    "plt.plot(t,ct2,label='aL = {:.2f}cm'.format(aL2))\n",
    "#plt.plot(t,ct4,label='aL = {:.2f}cm'.format(aL4))\n",
    "plt.plot(time,tracer_dimless,'o',lw = 2,label = 'data')\n",
    "plt.scatter(t_50,0.5,c = 'k',s = 50,zorder = 5)\n",
    "plt.grid(True)\n",
    "plt.legend()\n",
    "plt.xlabel(\"Time $t$ [min]\")\n",
    "plt.ylabel(\"Normalized Concentration $C(t)/C_0$ [-]\")\n",
    "\n"
   ]
  },
  {
   "cell_type": "code",
   "execution_count": null,
   "id": "02320a86-2800-4acc-8d76-474e67e5ac79",
   "metadata": {},
   "outputs": [],
   "source": []
  }
 ],
 "metadata": {
  "kernelspec": {
   "display_name": "Python 3 (ipykernel)",
   "language": "python",
   "name": "python3"
  },
  "language_info": {
   "codemirror_mode": {
    "name": "ipython",
    "version": 3
   },
   "file_extension": ".py",
   "mimetype": "text/x-python",
   "name": "python",
   "nbconvert_exporter": "python",
   "pygments_lexer": "ipython3",
   "version": "3.12.5"
  }
 },
 "nbformat": 4,
 "nbformat_minor": 5
}
